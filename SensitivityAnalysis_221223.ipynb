{
 "cells": [
  {
   "cell_type": "code",
   "execution_count": 1,
   "metadata": {},
   "outputs": [],
   "source": [
    "import pandas as pd\n",
    "import json\n",
    "import numpy as np\n",
    "import matplotlib as mpl\n",
    "import matplotlib.pyplot as plt\n",
    "from matplotlib import ticker\n",
    "import re\n",
    "from collections import OrderedDict\n",
    "from datetime import datetime\n",
    "\n",
    "import reach_station_lookup\n",
    "import sa_cn_inputs"
   ]
  },
  {
   "cell_type": "markdown",
   "metadata": {},
   "source": [
    "# COON CREEK"
   ]
  },
  {
   "cell_type": "markdown",
   "metadata": {},
   "source": [
    "## Current parameters & results"
   ]
  },
  {
   "cell_type": "code",
   "execution_count": 2,
   "metadata": {},
   "outputs": [],
   "source": [
    "#import baseline scenario JSON file\n",
    "with open(r'C:\\Users\\paige\\OneDrive\\Documents\\HMS_CC_Final\\ForAnyl_NoDams_OriginalCN_CompiledRiverStationData_21122022_134023.json',\"r\") as f:\n",
    "    NoDams_OriginalCN = json.load(f)"
   ]
  },
  {
   "cell_type": "code",
   "execution_count": 3,
   "metadata": {},
   "outputs": [],
   "source": [
    "#grab CNs from No Dams basin file\n",
    "with open(r\"C:\\Users\\paige\\OneDrive\\Documents\\HMS_CC_Final\\Original_BasinFile\\Coon_Creek___No_Dams.basin\",'r') as f:\n",
    "    fdata = f.read()\n",
    "\n",
    "subbasins_no_dams = re.findall(r\"Subbasin: (.*)\",fdata)\n",
    "cn_no_dams = re.findall(r\"Curve Number: (\\d\\d.\\d\\d*)\",fdata) #list of strings\n",
    "cn_no_dams = [float(x) for x in cn_no_dams]"
   ]
  },
  {
   "cell_type": "code",
   "execution_count": 4,
   "metadata": {},
   "outputs": [],
   "source": [
    "#build current parameters & results dictionary\n",
    "\n",
    "##build skeleton of CC_current dictionary\n",
    "years = [5,10,25,50,100,200,500]\n",
    "CC_anyl_stations = ['30304.08', '16878.2']\n",
    "CC_current = {'5yr':{'30304.08':{}, '16878.2':{}}, \n",
    "             '10yr':{'30304.08':{}, '16878.2':{}},\n",
    "             '25yr':{'30304.08':{}, '16878.2':{}},\n",
    "             '50yr':{'30304.08':{}, '16878.2':{}},\n",
    "             '100yr':{'30304.08':{}, '16878.2':{}},\n",
    "             '200yr':{'30304.08':{}, '16878.2':{}},\n",
    "             '500yr':{'30304.08':{}, '16878.2':{}}}\n",
    "\n",
    "for year in years:\n",
    "    CC_current[f'{year}yr']['30304.08'] = {subbasins_no_dams[0]:{},subbasins_no_dams[1]:{},subbasins_no_dams[2]:{},subbasins_no_dams[3]:{},subbasins_no_dams[4]:{},subbasins_no_dams[5]:{},subbasins_no_dams[6]:{},subbasins_no_dams[7]:{},subbasins_no_dams[8]:{},subbasins_no_dams[9]:{},subbasins_no_dams[10]:{},subbasins_no_dams[11]:{},subbasins_no_dams[12]:{},subbasins_no_dams[13]:{},subbasins_no_dams[14]:{},subbasins_no_dams[15]:{},subbasins_no_dams[16]:{},subbasins_no_dams[17]:{},subbasins_no_dams[18]:{},subbasins_no_dams[19]:{},subbasins_no_dams[20]:{},subbasins_no_dams[21]:{},subbasins_no_dams[22]:{},subbasins_no_dams[23]:{},subbasins_no_dams[24]:{},subbasins_no_dams[25]:{},subbasins_no_dams[26]:{},subbasins_no_dams[27]:{},subbasins_no_dams[28]:{},subbasins_no_dams[29]:{},subbasins_no_dams[30]:{},subbasins_no_dams[31]:{},subbasins_no_dams[32]:{},subbasins_no_dams[33]:{},subbasins_no_dams[34]:{},subbasins_no_dams[35]:{},subbasins_no_dams[36]:{},subbasins_no_dams[37]:{},subbasins_no_dams[38]:{},subbasins_no_dams[39]:{},subbasins_no_dams[40]:{},subbasins_no_dams[41]:{},subbasins_no_dams[42]:{},subbasins_no_dams[43]:{},subbasins_no_dams[44]:{},subbasins_no_dams[45]:{},subbasins_no_dams[46]:{},subbasins_no_dams[47]:{},subbasins_no_dams[48]:{},subbasins_no_dams[49]:{},subbasins_no_dams[50]:{}}\n",
    "    CC_current[f'{year}yr']['16878.2'] = {subbasins_no_dams[0]:{},subbasins_no_dams[1]:{},subbasins_no_dams[2]:{},subbasins_no_dams[3]:{},subbasins_no_dams[4]:{},subbasins_no_dams[5]:{},subbasins_no_dams[6]:{},subbasins_no_dams[7]:{},subbasins_no_dams[8]:{},subbasins_no_dams[9]:{},subbasins_no_dams[10]:{},subbasins_no_dams[11]:{},subbasins_no_dams[12]:{},subbasins_no_dams[13]:{},subbasins_no_dams[14]:{},subbasins_no_dams[15]:{},subbasins_no_dams[16]:{},subbasins_no_dams[17]:{},subbasins_no_dams[18]:{},subbasins_no_dams[19]:{},subbasins_no_dams[20]:{},subbasins_no_dams[21]:{},subbasins_no_dams[22]:{},subbasins_no_dams[23]:{},subbasins_no_dams[24]:{},subbasins_no_dams[25]:{},subbasins_no_dams[26]:{},subbasins_no_dams[27]:{},subbasins_no_dams[28]:{},subbasins_no_dams[29]:{},subbasins_no_dams[30]:{},subbasins_no_dams[31]:{},subbasins_no_dams[32]:{},subbasins_no_dams[33]:{},subbasins_no_dams[34]:{},subbasins_no_dams[35]:{},subbasins_no_dams[36]:{},subbasins_no_dams[37]:{},subbasins_no_dams[38]:{},subbasins_no_dams[39]:{},subbasins_no_dams[40]:{},subbasins_no_dams[41]:{},subbasins_no_dams[42]:{},subbasins_no_dams[43]:{},subbasins_no_dams[44]:{},subbasins_no_dams[45]:{},subbasins_no_dams[46]:{},subbasins_no_dams[47]:{},subbasins_no_dams[48]:{},subbasins_no_dams[49]:{},subbasins_no_dams[50]:{}}\n",
    "\n",
    "##populate CC_current\n",
    "for station in range(len(CC_anyl_stations)): #2 instances\n",
    "    for basin in range(len(subbasins_no_dams)): #51 instances\n",
    "        CC_current['5yr'][f'{CC_anyl_stations[station]}'][f'{subbasins_no_dams[basin]}']['cn'] = cn_no_dams[basin] #subbasins_no_dams maps to cn_no_dams\n",
    "        CC_current['5yr'][f'{CC_anyl_stations[station]}'][f'{subbasins_no_dams[basin]}']['Qmax'] = NoDams_OriginalCN['5yr'][f'{CC_anyl_stations[station]}']['Qmax']\n",
    "        CC_current['5yr'][f'{CC_anyl_stations[station]}'][f'{subbasins_no_dams[basin]}']['WSE'] = NoDams_OriginalCN['5yr'][f'{CC_anyl_stations[station]}']['WSE']\n",
    "        CC_current['5yr'][f'{CC_anyl_stations[station]}'][f'{subbasins_no_dams[basin]}']['time series'] = NoDams_OriginalCN['5yr'][f'{CC_anyl_stations[station]}']['time series']\n",
    "\n",
    "        CC_current['10yr'][f'{CC_anyl_stations[station]}'][f'{subbasins_no_dams[basin]}']['cn'] = cn_no_dams[basin] #subbasins_no_dams maps to cn_no_dams\n",
    "        CC_current['10yr'][f'{CC_anyl_stations[station]}'][f'{subbasins_no_dams[basin]}']['Qmax'] = NoDams_OriginalCN['10yr'][f'{CC_anyl_stations[station]}']['Qmax']\n",
    "        CC_current['10yr'][f'{CC_anyl_stations[station]}'][f'{subbasins_no_dams[basin]}']['WSE'] = NoDams_OriginalCN['10yr'][f'{CC_anyl_stations[station]}']['WSE']\n",
    "        CC_current['10yr'][f'{CC_anyl_stations[station]}'][f'{subbasins_no_dams[basin]}']['time series'] = NoDams_OriginalCN['10yr'][f'{CC_anyl_stations[station]}']['time series']\n",
    "\n",
    "        CC_current['25yr'][f'{CC_anyl_stations[station]}'][f'{subbasins_no_dams[basin]}']['cn'] = cn_no_dams[basin] #subbasins_no_dams maps to cn_no_dams\n",
    "        CC_current['25yr'][f'{CC_anyl_stations[station]}'][f'{subbasins_no_dams[basin]}']['Qmax'] = NoDams_OriginalCN['25yr'][f'{CC_anyl_stations[station]}']['Qmax']\n",
    "        CC_current['25yr'][f'{CC_anyl_stations[station]}'][f'{subbasins_no_dams[basin]}']['WSE'] = NoDams_OriginalCN['25yr'][f'{CC_anyl_stations[station]}']['WSE']\n",
    "        CC_current['25yr'][f'{CC_anyl_stations[station]}'][f'{subbasins_no_dams[basin]}']['time series'] = NoDams_OriginalCN['25yr'][f'{CC_anyl_stations[station]}']['time series']\n",
    "\n",
    "        CC_current['50yr'][f'{CC_anyl_stations[station]}'][f'{subbasins_no_dams[basin]}']['cn'] = cn_no_dams[basin] #subbasins_no_dams maps to cn_no_dams\n",
    "        CC_current['50yr'][f'{CC_anyl_stations[station]}'][f'{subbasins_no_dams[basin]}']['Qmax'] = NoDams_OriginalCN['50yr'][f'{CC_anyl_stations[station]}']['Qmax']\n",
    "        CC_current['50yr'][f'{CC_anyl_stations[station]}'][f'{subbasins_no_dams[basin]}']['WSE'] = NoDams_OriginalCN['50yr'][f'{CC_anyl_stations[station]}']['WSE']\n",
    "        CC_current['50yr'][f'{CC_anyl_stations[station]}'][f'{subbasins_no_dams[basin]}']['time series'] = NoDams_OriginalCN['50yr'][f'{CC_anyl_stations[station]}']['time series']\n",
    "\n",
    "        CC_current['100yr'][f'{CC_anyl_stations[station]}'][f'{subbasins_no_dams[basin]}']['cn'] = cn_no_dams[basin] #subbasins_no_dams maps to cn_no_dams\n",
    "        CC_current['100yr'][f'{CC_anyl_stations[station]}'][f'{subbasins_no_dams[basin]}']['Qmax'] = NoDams_OriginalCN['100yr'][f'{CC_anyl_stations[station]}']['Qmax']\n",
    "        CC_current['100yr'][f'{CC_anyl_stations[station]}'][f'{subbasins_no_dams[basin]}']['WSE'] = NoDams_OriginalCN['100yr'][f'{CC_anyl_stations[station]}']['WSE']\n",
    "        CC_current['100yr'][f'{CC_anyl_stations[station]}'][f'{subbasins_no_dams[basin]}']['time series'] = NoDams_OriginalCN['100yr'][f'{CC_anyl_stations[station]}']['time series']\n",
    "\n",
    "        CC_current['200yr'][f'{CC_anyl_stations[station]}'][f'{subbasins_no_dams[basin]}']['cn'] = cn_no_dams[basin] #subbasins_no_dams maps to cn_no_dams\n",
    "        CC_current['200yr'][f'{CC_anyl_stations[station]}'][f'{subbasins_no_dams[basin]}']['Qmax'] = NoDams_OriginalCN['200yr'][f'{CC_anyl_stations[station]}']['Qmax']\n",
    "        CC_current['200yr'][f'{CC_anyl_stations[station]}'][f'{subbasins_no_dams[basin]}']['WSE'] = NoDams_OriginalCN['200yr'][f'{CC_anyl_stations[station]}']['WSE']\n",
    "        CC_current['200yr'][f'{CC_anyl_stations[station]}'][f'{subbasins_no_dams[basin]}']['time series'] = NoDams_OriginalCN['200yr'][f'{CC_anyl_stations[station]}']['time series']\n",
    "\n",
    "        CC_current['500yr'][f'{CC_anyl_stations[station]}'][f'{subbasins_no_dams[basin]}']['cn'] = cn_no_dams[basin] #subbasins_no_dams maps to cn_no_dams\n",
    "        CC_current['500yr'][f'{CC_anyl_stations[station]}'][f'{subbasins_no_dams[basin]}']['Qmax'] = NoDams_OriginalCN['500yr'][f'{CC_anyl_stations[station]}']['Qmax']\n",
    "        CC_current['500yr'][f'{CC_anyl_stations[station]}'][f'{subbasins_no_dams[basin]}']['WSE'] = NoDams_OriginalCN['500yr'][f'{CC_anyl_stations[station]}']['WSE']\n",
    "        CC_current['500yr'][f'{CC_anyl_stations[station]}'][f'{subbasins_no_dams[basin]}']['time series'] = NoDams_OriginalCN['500yr'][f'{CC_anyl_stations[station]}']['time series']\n"
   ]
  },
  {
   "cell_type": "markdown",
   "metadata": {},
   "source": [
    "## experimental parameters & results"
   ]
  },
  {
   "cell_type": "code",
   "execution_count": 5,
   "metadata": {},
   "outputs": [],
   "source": [
    "#import scenarios JSON files (loop to load all?)"
   ]
  },
  {
   "cell_type": "code",
   "execution_count": 6,
   "metadata": {},
   "outputs": [],
   "source": [
    "#grab CN list (will hold 51 values, but will signify one CN change at a time)"
   ]
  },
  {
   "cell_type": "code",
   "execution_count": 7,
   "metadata": {},
   "outputs": [],
   "source": [
    "#bring in sa_cn_inputs module\n",
    "CC = sa_cn_inputs.SA_CN_Inputs('CC') #usage: CC.get_SA_CN('subbasin')\n",
    "WFK = sa_cn_inputs.SA_CN_Inputs('WFK') #usage: WFK.get_SA_CN('subbasin')\n",
    "# CC.get_SA_CN('COON CREEK 14')\n",
    "# WFK.get_SA_CN('West Fork Kickapoo J')"
   ]
  },
  {
   "cell_type": "code",
   "execution_count": 8,
   "metadata": {},
   "outputs": [
    {
     "ename": "SyntaxError",
     "evalue": "unexpected EOF while parsing (<ipython-input-8-c9c6077a6fee>, line 3)",
     "output_type": "error",
     "traceback": [
      "\u001b[1;36m  File \u001b[1;32m\"<ipython-input-8-c9c6077a6fee>\"\u001b[1;36m, line \u001b[1;32m3\u001b[0m\n\u001b[1;33m    for basin in subbasins_no_dams:\u001b[0m\n\u001b[1;37m                                   ^\u001b[0m\n\u001b[1;31mSyntaxError\u001b[0m\u001b[1;31m:\u001b[0m unexpected EOF while parsing\n"
     ]
    }
   ],
   "source": [
    "#Master Loop\n",
    "#CC\n",
    "for basin in range(len(subbasins_no_dams)):\n",
    "    CC_CNs = CC.get_SA_CN(f'{subbasins_no_dams[basin]}')\n",
    "    JSON_name_ext = f'{subbasins_no_dams[basin]}'"
   ]
  },
  {
   "cell_type": "code",
   "execution_count": 9,
   "metadata": {},
   "outputs": [],
   "source": [
    "from sa_cn_inputs import CC_subbasins_no_dams"
   ]
  },
  {
   "cell_type": "code",
   "execution_count": 11,
   "metadata": {},
   "outputs": [],
   "source": [
    "from CC_sa_cn_adjustments import CC_params_l"
   ]
  },
  {
   "cell_type": "code",
   "execution_count": 12,
   "metadata": {},
   "outputs": [
    {
     "data": {
      "text/plain": [
       "[19318.20789,\n",
       " 7302.034755,\n",
       " 14311.62301,\n",
       " 11452.76855,\n",
       " 18219.29181,\n",
       " 22189.09222,\n",
       " 20965.32767,\n",
       " 19826.93364,\n",
       " 7857.499347,\n",
       " 10795.06055,\n",
       " 5364.31813,\n",
       " 11440.68237,\n",
       " 19917.46777,\n",
       " 12328.02231,\n",
       " 8974.802541,\n",
       " 12500.75613,\n",
       " 16814.39125,\n",
       " 10362.1218,\n",
       " 19990.94513,\n",
       " 22014.30284,\n",
       " 21892.23875,\n",
       " 18140.02164,\n",
       " 16843.77921,\n",
       " 17174.3788,\n",
       " 22807.09022,\n",
       " 16378.14419,\n",
       " 16751.33033,\n",
       " 15517.33718,\n",
       " 16837.59512,\n",
       " 12048.25426,\n",
       " 16032.28608,\n",
       " 19143.16365,\n",
       " 15905.4657,\n",
       " 16036.80052,\n",
       " 22132.78021,\n",
       " 20874.9343,\n",
       " 19148.90251,\n",
       " 17213.1614,\n",
       " 25446.15653,\n",
       " 24491.9835,\n",
       " 13511.36774,\n",
       " 21384.81079,\n",
       " 32174.18178,\n",
       " 25865.26251,\n",
       " 22483.09955,\n",
       " 25039.79,\n",
       " 33206.50173,\n",
       " 21484.9688,\n",
       " 20288.95172,\n",
       " 25291.83198,\n",
       " 17671.88758]"
      ]
     },
     "execution_count": 12,
     "metadata": {},
     "output_type": "execute_result"
    }
   ],
   "source": [
    "CC_params_l"
   ]
  },
  {
   "cell_type": "code",
   "execution_count": null,
   "metadata": {},
   "outputs": [],
   "source": [
    "#todo\n",
    "## determine source of 'tripping' when exporting time series .txt file AND/OR, implement pydss--> get full workflow operating reliably\n",
    "## --> source of tripping appears to be running .dss from command prompt altogether. trips on different reaches in different storms each time\n",
    "## ----> need to utilize pydss for this step\n",
    "## design outer/inner trigger loop, to automate multiple runs of workflow with differing sets of CN as inputs"
   ]
  }
 ],
 "metadata": {
  "kernelspec": {
   "display_name": "Python 3",
   "language": "python",
   "name": "python3"
  },
  "language_info": {
   "codemirror_mode": {
    "name": "ipython",
    "version": 3
   },
   "file_extension": ".py",
   "mimetype": "text/x-python",
   "name": "python",
   "nbconvert_exporter": "python",
   "pygments_lexer": "ipython3",
   "version": "3.7.10"
  }
 },
 "nbformat": 4,
 "nbformat_minor": 4
}
